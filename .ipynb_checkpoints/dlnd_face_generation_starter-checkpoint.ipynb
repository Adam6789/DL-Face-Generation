{
 "cells": [
  {
   "cell_type": "markdown",
   "id": "bc65a7b6",
   "metadata": {},
   "source": [
    "# Face Generation\n",
    "\n",
    "In this project, you'll define and train a Generative Adverserial network of your own creation on a dataset of faces. Your goal is to get a generator network to generate *new* images of faces that look as realistic as possible!\n",
    "\n",
    "The project will be broken down into a series of tasks from **defining new architectures training adversarial networks**. At the end of the notebook, you'll be able to visualize the results of your trained Generator to see how it performs; your generated samples should look like fairly realistic faces with small amounts of noise.\n",
    "\n",
    "### Get the Data\n",
    "\n",
    "You'll be using the [CelebFaces Attributes Dataset (CelebA)](http://mmlab.ie.cuhk.edu.hk/projects/CelebA.html) to train your adversarial networks.\n",
    "\n",
    "This dataset has higher resolution images than datasets you have previously worked with (like MNIST or SVHN) you've been working with, and so, you should prepare to define deeper networks and train them for a longer time to get good results. It is suggested that you utilize a GPU for training.\n",
    "\n",
    "### Pre-processed Data\n",
    "\n",
    "Since the project's main focus is on building the GANs, we've done *some* of the pre-processing for you. Each of the CelebA images has been cropped to remove parts of the image that don't include a face, then resized down to 64x64x3 NumPy images. Some sample data is show below.\n",
    "\n",
    "<img src='assets/processed_face_data.png' width=60% />\n",
    "\n",
    "> If you are working locally, you can download this data [by clicking here](https://s3.amazonaws.com/video.udacity-data.com/topher/2018/November/5be7eb6f_processed-celeba-small/processed-celeba-small.zip)\n",
    "\n",
    "This is a zip file that you'll need to extract in the home directory of this notebook for further loading and processing. After extracting the data, you should be left with a directory of data `processed-celeba-small/`."
   ]
  },
  {
   "cell_type": "code",
   "execution_count": null,
   "id": "895efb32",
   "metadata": {},
   "outputs": [],
   "source": [
    "!pip uninstall torchvision"
   ]
  },
  {
   "cell_type": "code",
   "execution_count": null,
   "id": "c7838480",
   "metadata": {},
   "outputs": [],
   "source": [
    "# run this once to unzip the file\n",
    "#!unzip processed-celeba-small.zip"
   ]
  },
  {
   "cell_type": "code",
   "execution_count": null,
   "id": "74f58b6c",
   "metadata": {},
   "outputs": [],
   "source": [
    "from pathlib import Path\n",
    "import matplotlib.image as mpimg\n",
    "\n",
    "from glob import glob\n",
    "from typing import Tuple, Callable, Dict\n",
    "\n",
    "import matplotlib.pyplot as plt\n",
    "import numpy as np\n",
    "import torch\n",
    "from PIL import Image\n",
    "from torch.utils.data import DataLoader, Dataset\n",
    "from torchvision.transforms import Compose\n",
    "from torchvision.transforms import ToTensor\n",
    "from torchvision.transforms import Resize\n",
    "from torchvision.transforms import Normalize\n",
    "import torch.nn as nn\n",
    "\n",
    "#import tests"
   ]
  },
  {
   "cell_type": "code",
   "execution_count": null,
   "id": "c9edb1c3",
   "metadata": {},
   "outputs": [],
   "source": [
    "data_dir = 'processed_celeba_small/celeba/'"
   ]
  },
  {
   "cell_type": "markdown",
   "id": "91efe1a1",
   "metadata": {},
   "source": [
    "## Data pipeline\n",
    "\n",
    "The [CelebA](http://mmlab.ie.cuhk.edu.hk/projects/CelebA.html) dataset contains over 200,000 celebrity images with annotations. Since you're going to be generating faces, you won't need the annotations, you'll only need the images. Note that these are color images with [3 color channels (RGB)](https://en.wikipedia.org/wiki/Channel_(digital_image)#RGB_Images) each.\n",
    "\n",
    "### Pre-process and Load the Data\n",
    "\n",
    "Since the project's main focus is on building the GANs, we've done *some* of the pre-processing for you. Each of the CelebA images has been cropped to remove parts of the image that don't include a face, then resized down to 64x64x3 NumPy images. This *pre-processed* dataset is a smaller subset of the very large CelebA dataset and contains roughly 30,000 images. \n",
    "\n",
    "Your first task consists in building the dataloader. To do so, you need to do the following:\n",
    "* implement the get_transforms function\n",
    "* create a custom Dataset class that reads the CelebA data"
   ]
  },
  {
   "cell_type": "markdown",
   "id": "ae175d16",
   "metadata": {},
   "source": [
    "### Exercise: implement the get_transforms function\n",
    "\n",
    "The `get_transforms` function should output a [`torchvision.transforms.Compose`](https://pytorch.org/vision/stable/generated/torchvision.transforms.Compose.html#torchvision.transforms.Compose) of different transformations. You have two constraints:\n",
    "* the function takes a tuple of size as input and should **resize the images** to the input size\n",
    "* the output images should have values **ranging from -1 to 1**"
   ]
  },
  {
   "cell_type": "code",
   "execution_count": null,
   "id": "48fe9372",
   "metadata": {},
   "outputs": [],
   "source": [
    "def get_transforms(size: Tuple[int, int]) -> Callable:\n",
    "    \"\"\" Transforms to apply to the image.\"\"\"\n",
    "    # TODO: edit this function by appening transforms to the below list\n",
    "    transforms = [ToTensor(), Resize(size), Normalize(0.5,0.5)]\n",
    "    \n",
    "    return Compose(transforms)"
   ]
  },
  {
   "cell_type": "markdown",
   "id": "25a3bf67",
   "metadata": {},
   "source": [
    "### Exercise: implement the DatasetDirectory class\n",
    "\n",
    "\n",
    "The `DatasetDirectory` class is a torch Dataset that reads from the above data directory. The `__getitem__` method should output a transformed tensor and the `__len__` method should output the number of files in our dataset. You can look at [this custom dataset](https://pytorch.org/tutorials/beginner/basics/data_tutorial.html#creating-a-custom-dataset-for-your-files) for ideas. "
   ]
  },
  {
   "cell_type": "code",
   "execution_count": null,
   "id": "d228a14d",
   "metadata": {},
   "outputs": [],
   "source": [
    "\n",
    "class DatasetDirectory(Dataset):\n",
    "    \"\"\"\n",
    "    A custom dataset class that loads images from folder.\n",
    "    args:\n",
    "    - directory: location of the images\n",
    "    - transform: transform function to apply to the images\n",
    "    - extension: file format\n",
    "    \"\"\"\n",
    "    def __init__(self, \n",
    "                 directory: str, \n",
    "                 transforms: Callable = None, \n",
    "                 extension: str = '.jpg'):\n",
    "        # TODO: implement the init method\n",
    "\n",
    "        images = list(Path(directory).glob(f\"*{extension}\"))\n",
    "        self.images = [transforms(mpimg.imread(str(p))) for p in images]\n",
    "        \n",
    "    def __len__(self) -> int:\n",
    "        \"\"\" returns the number of items in the dataset \"\"\"\n",
    "        # TODO: return the number of elements in the dataset\n",
    "        return len(self.images)\n",
    "\n",
    "    def __getitem__(self, index: int) -> torch.Tensor:\n",
    "        \"\"\" load an image and apply transformation \"\"\"\n",
    "        # TODO: return the index-element of the dataset\n",
    "        return self.images[index]"
   ]
  },
  {
   "cell_type": "code",
   "execution_count": null,
   "id": "d573cde3",
   "metadata": {},
   "outputs": [],
   "source": [
    "\"\"\"\n",
    "DO NOT MODIFY ANYTHING IN THIS CELL\n",
    "\"\"\"\n",
    "# run this cell to verify your dataset implementation\n",
    "dataset = DatasetDirectory(data_dir, get_transforms((64, 64)))\n",
    "#tests.check_dataset_outputs(dataset)"
   ]
  },
  {
   "cell_type": "markdown",
   "id": "eadf4e42",
   "metadata": {},
   "source": [
    "The functions below will help you visualize images from the dataset."
   ]
  },
  {
   "cell_type": "code",
   "execution_count": null,
   "id": "0c14181b",
   "metadata": {},
   "outputs": [],
   "source": [
    "\"\"\"\n",
    "DO NOT MODIFY ANYTHING IN THIS CELL\n",
    "\"\"\"\n",
    "\n",
    "def denormalize(images):\n",
    "    \"\"\"Transform images from [-1.0, 1.0] to [0, 255] and cast them to uint8.\"\"\"\n",
    "    return ((images + 1.) / 2. * 255).astype(np.uint8)\n",
    "\n",
    "# plot the images in the batch, along with the corresponding labels\n",
    "fig = plt.figure(figsize=(20, 4))\n",
    "plot_size=20\n",
    "for idx in np.arange(plot_size):\n",
    "    ax = fig.add_subplot(2, int(plot_size/2), idx+1, xticks=[], yticks=[])\n",
    "    img = dataset[idx].numpy()\n",
    "    img = np.transpose(img, (1, 2, 0))\n",
    "    img = denormalize(img)\n",
    "    ax.imshow(img)"
   ]
  },
  {
   "cell_type": "markdown",
   "id": "aa49f8d1",
   "metadata": {},
   "source": [
    "## Model implementation\n",
    "\n",
    "As you know, a GAN is comprised of two adversarial networks, a discriminator and a generator. Now that we have a working data pipeline, we need to implement the discriminator and the generator. \n",
    "\n",
    "Feel free to implement any additional class or function."
   ]
  },
  {
   "cell_type": "markdown",
   "id": "f4a89258",
   "metadata": {},
   "source": [
    "### Exercise: Create the discriminator\n",
    "\n",
    "The discriminator's job is to score real and fake images. You have two constraints here:\n",
    "* the discriminator takes as input a **batch of 64x64x3 images**\n",
    "* the output should be a single value (=score)\n",
    "\n",
    "Feel free to get inspiration from the different architectures we talked about in the course, such as DCGAN, WGAN-GP or DRAGAN.\n",
    "\n",
    "#### Some tips\n",
    "* To scale down from the input image, you can either use `Conv2d` layers with the correct hyperparameters or Pooling layers.\n",
    "* If you plan on using gradient penalty, do not use Batch Normalization layers in the discriminator."
   ]
  },
  {
   "cell_type": "code",
   "execution_count": null,
   "id": "54e1aab6",
   "metadata": {},
   "outputs": [],
   "source": []
  },
  {
   "cell_type": "code",
   "execution_count": null,
   "id": "b7b1c64c",
   "metadata": {},
   "outputs": [],
   "source": [
    "from torch.nn import Module"
   ]
  },
  {
   "cell_type": "code",
   "execution_count": null,
   "id": "c14bf7c9",
   "metadata": {},
   "outputs": [],
   "source": [
    "class Discriminator(Module):\n",
    "    def __init__(self):\n",
    "        super(Discriminator, self).__init__()\n",
    "        factor = 128\n",
    "        # TODO: instantiate the different layers\n",
    "        \n",
    "        # constraint: \"input is a batch of 64x64x3 images\"\n",
    "        self.conv1 = nn.Conv2d(3,factor,4,2,1)\n",
    "        self.conv2 = nn.Conv2d(factor,factor*2,4,2,1)\n",
    "        self.conv3 = nn.Conv2d(factor*2,factor*4,4,2,1)\n",
    "        self.bn2 = nn.BatchNorm2d(factor*2)\n",
    "        self.bn3 = nn.BatchNorm2d(factor*4)\n",
    "        self.act = nn.LeakyReLU()\n",
    "        self.flatten = nn.Flatten()\n",
    "        self.fc = nn.Linear(factor*4*8*8,1)\n",
    "        \n",
    "    def forward(self, x: torch.Tensor) -> torch.Tensor:\n",
    "        # TODO: implement the forward method\n",
    "        #x = np.transpose(x,(0,3,1,2))\n",
    "        x = self.conv1(x)\n",
    "        x = self.act(x)\n",
    "        x = self.conv2(x)\n",
    "        x = self.bn2(x)\n",
    "        x = self.act(x)\n",
    "        x = self.conv3(x)\n",
    "        x = self.bn3(x)\n",
    "        x = self.act(x)\n",
    "        x = self.flatten(x)\n",
    "        x = self.fc(x)\n",
    "        \n",
    "        return x\n",
    "    \n",
    "# hallo"
   ]
  },
  {
   "cell_type": "code",
   "execution_count": null,
   "id": "f635c863",
   "metadata": {},
   "outputs": [],
   "source": [
    "img=dataset[0]\n",
    "print(img.shape)\n",
    "#img = np.transpose(img, (1, 2, 0))\n",
    "D = Discriminator()\n",
    "img = D(torch.unsqueeze(img,0))\n",
    "\n",
    "img.shape\n"
   ]
  },
  {
   "cell_type": "code",
   "execution_count": null,
   "id": "53f0da66",
   "metadata": {},
   "outputs": [],
   "source": [
    "\"\"\"\n",
    "DO NOT MODIFY ANYTHING IN THIS CELL\n",
    "\"\"\"\n",
    "# run this cell to check your discriminator implementation\n",
    "discriminator = Discriminator()\n",
    "#tests.check_discriminator(discriminator)\n",
    "\n"
   ]
  },
  {
   "cell_type": "markdown",
   "id": "99c0a9c1",
   "metadata": {},
   "source": [
    "### Exercise: create the generator\n",
    "\n",
    "The generator's job creates the \"fake images\" and learns the dataset distribution. You have three constraints here:\n",
    "* the generator takes as input a vector of dimension `[batch_size, latent_dimension, 1, 1]`\n",
    "* the generator must outputs **64x64x3 images**\n",
    "\n",
    "Feel free to get inspiration from the different architectures we talked about in the course, such as DCGAN, WGAN-GP or DRAGAN.\n",
    "\n",
    "#### Some tips:\n",
    "* to scale up from the latent vector input, you can use `ConvTranspose2d` layers\n",
    "* as often with Gan, **Batch Normalization** helps with training"
   ]
  },
  {
   "cell_type": "code",
   "execution_count": null,
   "id": "6f2480b7",
   "metadata": {},
   "outputs": [],
   "source": [
    "class Generator(Module):\n",
    "    def __init__(self, latent_dim: int):\n",
    "        super(Generator, self).__init__()\n",
    "        # TODO: instantiate the different layers\n",
    "        factor = 16\n",
    "        self.fc = nn.Linear(latent_dim * 1 * 1, factor * 32)\n",
    "        self.deconv1 = nn.ConvTranspose2d(factor * 32, factor *16, 4,2,1)\n",
    "        self.bn1 = nn.BatchNorm2d(factor*16)\n",
    "        self.deconv2 = nn.ConvTranspose2d(factor*16,factor*8,4,2,1)\n",
    "        self.bn2 = nn.BatchNorm2d(factor*8)\n",
    "        self.deconv3 = nn.ConvTranspose2d(factor*8,factor*4,4,2,1)\n",
    "        self.bn3 = nn.BatchNorm2d(factor*4)\n",
    "        self.deconv4 = nn.ConvTranspose2d(factor*4,factor*2,4,2,1)\n",
    "        self.bn4 = nn.BatchNorm2d(factor*2)\n",
    "        self.deconv5 = nn.ConvTranspose2d(factor*2,factor,4,2,1)\n",
    "        self.bn5 = nn.BatchNorm2d(factor)\n",
    "        self.deconv6 = nn.ConvTranspose2d(factor,3,4,2,1)\n",
    "        self.act = nn.ReLU()\n",
    "        self.final_act = nn.Tanh()\n",
    "        \n",
    "\n",
    "    def forward(self, x: torch.Tensor) -> torch.Tensor:\n",
    "        # TODO: implement the forward method\n",
    "        x = torch.permute(x, (0,2,3,1))\n",
    "        x = self.fc(x)\n",
    "        x = torch.permute(x, (0,3,1,2))\n",
    "        x = self.deconv1(x)\n",
    "        x = self.bn1(x)\n",
    "        x = self.act(x)\n",
    "        x = self.deconv2(x)\n",
    "        x = self.bn2(x)\n",
    "        x = self.act(x)\n",
    "        x = self.deconv3(x)\n",
    "        x = self.bn3(x)\n",
    "        x = self.act(x)\n",
    "        x = self.deconv4(x)\n",
    "        x = self.bn4(x)\n",
    "        x = self.act(x)\n",
    "        x = self.deconv5(x)\n",
    "        x = self.bn5(x)\n",
    "        x = self.act(x)\n",
    "        x = self.deconv6(x)\n",
    "        x = self.final_act(x)\n",
    "        return x\n",
    "\n"
   ]
  },
  {
   "cell_type": "code",
   "execution_count": null,
   "id": "085c42f4",
   "metadata": {},
   "outputs": [],
   "source": [
    "\"\"\"\n",
    "DO NOT MODIFY ANYTHING IN THIS CELL\n",
    "\"\"\"\n",
    "# run this cell to verify your generator implementation\n",
    "latent_dim = 128\n",
    "generator = Generator(latent_dim)\n",
    "tests.check_generator(generator, latent_dim)\n"
   ]
  },
  {
   "cell_type": "markdown",
   "id": "375f006d",
   "metadata": {},
   "source": [
    "## Optimizer\n",
    "\n",
    "In the following section, we create the optimizers for the generator and discriminator. You may want to experiment with different optimizers, learning rates and other hyperparameters as they tend to impact the output quality."
   ]
  },
  {
   "cell_type": "markdown",
   "id": "4f5ddd8c",
   "metadata": {},
   "source": [
    "### Exercise: implement the optimizers"
   ]
  },
  {
   "cell_type": "code",
   "execution_count": null,
   "id": "8c9bace4",
   "metadata": {},
   "outputs": [],
   "source": [
    "import torch.optim as optim\n",
    "\n",
    "\n",
    "def create_optimizers(generator: Module, discriminator: Module, lr: int):\n",
    "    \"\"\" This function should return the optimizers of the generator and the discriminator \"\"\"\n",
    "    # TODO: implement the generator and discriminator optimizers\n",
    "    g_optimizer = optim.Adam(generator.parameters(), lr)\n",
    "    d_optimizer = optim.Adam(discriminator.parameters(), lr)\n",
    "    return g_optimizer, d_optimizer\n"
   ]
  },
  {
   "cell_type": "markdown",
   "id": "d86d2667",
   "metadata": {},
   "source": [
    "## Losses implementation\n",
    "\n",
    "In this section, we are going to implement the loss function for the generator and the discriminator. You can and should experiment with different loss function.\n",
    "\n",
    "Some tips:\n",
    "* You can choose the commonly used the binary cross entropy loss or select other losses we have discovered in the course, such as the Wasserstein distance.\n",
    "* You may want to implement a gradient penalty function as discussed in the course. It is not required and the code will work whether you implement it or not."
   ]
  },
  {
   "cell_type": "markdown",
   "id": "879923a0",
   "metadata": {},
   "source": [
    "### Exercise: implement the generator loss\n",
    "\n",
    "The generator's goal is to get the discriminator to think its generated images (= \"fake\" images) are real."
   ]
  },
  {
   "cell_type": "code",
   "execution_count": null,
   "id": "042833d4",
   "metadata": {},
   "outputs": [],
   "source": [
    "def generator_loss(fake_logits):\n",
    "    \"\"\" Generator loss, takes the fake scores as inputs. \"\"\"\n",
    "    # TODO: implement the generator loss\n",
    "    # fake_logits = D(G(z))\n",
    "    criterion = nn.BCEWithLogitsLoss()\n",
    "    should_be = torch.ones([len(fake_logits),1]).to(device)\n",
    "    assert fake_logits.shape == should_be.shape, f\"sizes are not the same:  {fake_logits.shape} vs. {fake_logits.shape}\"\n",
    "    loss = criterion(fake_logits, should_be)\n",
    "    \n",
    "    return loss"
   ]
  },
  {
   "cell_type": "markdown",
   "id": "56236d37",
   "metadata": {},
   "source": [
    "### Exercise: implement the discriminator loss\n",
    "\n",
    "We want the discriminator to give high scores to real images and low scores to fake ones and the discriminator loss should reflect that."
   ]
  },
  {
   "cell_type": "code",
   "execution_count": null,
   "id": "39e54437",
   "metadata": {},
   "outputs": [],
   "source": [
    "def discriminator_loss(real_logits, fake_logits, smooth=False):\n",
    "    \"\"\" Discriminator loss, takes the fake and real logits as inputs. \"\"\"\n",
    "    # TODO: implement the discriminator loss \n",
    "    # fake_logits = D(G(z))\n",
    "    # real_logits = D(img)\n",
    "    criterion = nn.BCEWithLogitsLoss()\n",
    "    should_be_ones = torch.ones([len(real_logits),1]).to(device)\n",
    "    if smooth:\n",
    "        should_be_ones -= 0.1\n",
    "    should_be_zeros = torch.zeros([len(fake_logits),1]).to(device)\n",
    "    loss_r = criterion(real_logits, should_be_ones) \n",
    "    loss_f = criterion(fake_logits, should_be_zeros)\n",
    "    \n",
    "    return loss_r + loss_f\n"
   ]
  },
  {
   "cell_type": "markdown",
   "id": "3d42f78a",
   "metadata": {},
   "source": [
    "### Exercise (Optional): Implement the gradient Penalty\n",
    "\n",
    "In the course, we discussed the importance of gradient penalty in training certain types of Gans. Implementing this function is not required and depends on some of the design decision you made (discriminator architecture, loss functions)."
   ]
  },
  {
   "cell_type": "code",
   "execution_count": null,
   "id": "e36dda8d",
   "metadata": {},
   "outputs": [],
   "source": [
    "def gradient_penalty(real_sample: torch.Tensor, \n",
    "                     fake_sample: torch.Tensor,\n",
    "                     critic: nn.Module) -> torch.Tensor:\n",
    "    \"\"\"\n",
    "    Gradient penalty of the WGAN-GP model\n",
    "    args:\n",
    "    - real_sample: sample from the real dataset\n",
    "    - fake_sample: generated sample\n",
    "    \n",
    "    returns:\n",
    "    - gradient penalty\n",
    "    \"\"\"\n",
    "    # sample a random point between both distributions\n",
    "    alpha = torch.rand(real_sample.shape)\n",
    "    x_hat = alpha * real_sample + (1 - alpha) * fake_sample\n",
    "    \n",
    "    # calculate the gradient\n",
    "    x_hat.requires_grad = True\n",
    "    pred = critic(x_hat)\n",
    "    grad = torch.autograd.grad(pred, \n",
    "                               x_hat, \n",
    "                               grad_outputs=torch.ones_like(pred), \n",
    "                               create_graph=True)[0]\n",
    "    \n",
    "    # calculate the norm and the final penalty\n",
    "    norm = torch.norm(grad.view(-1), 2)\n",
    "    gp = ((norm - 1)**2).mean()    \n",
    "    return gp"
   ]
  },
  {
   "cell_type": "markdown",
   "id": "f579146f",
   "metadata": {},
   "source": [
    "## Training\n",
    "\n",
    "\n",
    "Training will involve alternating between training the discriminator and the generator. You'll use your functions real_loss and fake_loss to help you calculate the discriminator losses.\n",
    "\n",
    "* You should train the discriminator by alternating on real and fake images\n",
    "* Then the generator, which tries to trick the discriminator and should have an opposing loss function"
   ]
  },
  {
   "cell_type": "markdown",
   "id": "d9fbada6",
   "metadata": {},
   "source": [
    "### Exercise: implement the generator step and the discriminator step functions\n",
    "\n",
    "Each function should do the following:\n",
    "* calculate the loss\n",
    "* backpropagate the gradient\n",
    "* perform one optimizer step"
   ]
  },
  {
   "cell_type": "code",
   "execution_count": null,
   "id": "4f2ddc7b",
   "metadata": {},
   "outputs": [],
   "source": [
    "def generator_step(batch_size: int, latent_dim: int) -> Dict:\n",
    "    \"\"\" One training step of the generator. \"\"\"\n",
    "    # TODO: implement the generator step (foward pass, loss calculation and backward pass)\n",
    "    g_optimizer.zero_grad()\n",
    "    \n",
    "    \n",
    "    z = torch.rand(batch_size,latent_dim,1,1).to(device)\n",
    "    fake_images = generator(z)\n",
    "    fake_logits = discriminator(fake_images)\n",
    "    g_loss = generator_loss(fake_logits)\n",
    "    \n",
    "    g_loss.backward()\n",
    "    g_optimizer.step()\n",
    "    \n",
    "    gp = None\n",
    "    return {'loss': g_loss}\n",
    "\n",
    "\n",
    "\n",
    "\n",
    "\n",
    "def discriminator_step(batch_size: int, latent_dim: int, real_images: torch.Tensor) -> Dict:\n",
    "    \"\"\" One training step of the discriminator. \"\"\"\n",
    "    # TODO: implement the discriminator step (foward pass, loss calculation and backward pass)\n",
    "    d_optimizer.zero_grad()\n",
    "    \n",
    "\n",
    "    z = torch.rand(batch_size,latent_dim,1,1)\n",
    "    real_logits = discriminator(real_images)\n",
    "    fake_images = generator(z.to(device))\n",
    "    fake_logits = discriminator(fake_images.detach())\n",
    "    gp = gradient_penalty(real_images, fake_images, discriminator)\n",
    "    d_loss = discriminator_loss(real_logits,fake_logits,True) + gp\n",
    "    \n",
    "    d_loss.backward()\n",
    "    d_optimizer.step()\n",
    "\n",
    "    return {'loss': d_loss, 'gp': gp}"
   ]
  },
  {
   "cell_type": "markdown",
   "id": "c69fea18",
   "metadata": {},
   "source": [
    "### Main training loop\n",
    "\n",
    "You don't have to implement anything here but you can experiment with different hyperparameters."
   ]
  },
  {
   "cell_type": "code",
   "execution_count": null,
   "id": "3be6179f",
   "metadata": {},
   "outputs": [],
   "source": [
    "from datetime import datetime"
   ]
  },
  {
   "cell_type": "code",
   "execution_count": null,
   "id": "9fffffa6",
   "metadata": {},
   "outputs": [],
   "source": [
    "# you can experiment with different dimensions of latent spaces\n",
    "latent_dim = 128\n",
    "\n",
    "# update to cpu if you do not have access to a gpu\n",
    "device = torch.device('cuda' if torch.cuda.is_available() else 'cpu')\n",
    "\n",
    "\n",
    "# number of epochs to train your model\n",
    "n_epochs = 20\n",
    "\n",
    "# number of images in each batch\n",
    "batch_size = 64\n",
    "\n",
    "### my params\n",
    "lr = 0.0002"
   ]
  },
  {
   "cell_type": "code",
   "execution_count": null,
   "id": "91129ac2",
   "metadata": {},
   "outputs": [],
   "source": [
    "\"\"\"\n",
    "DO NOT MODIFY ANYTHING IN THIS CELL\n",
    "\"\"\"\n",
    "print_every = 50\n",
    "\n",
    "# Create optimizers for the discriminator D and generator G\n",
    "generator = Generator(latent_dim).to(device)\n",
    "discriminator = Discriminator().to(device)\n",
    "g_optimizer, d_optimizer = create_optimizers(generator, discriminator,lr)\n",
    "\n",
    "dataloader = DataLoader(dataset, \n",
    "                        batch_size=64, \n",
    "                        shuffle=True, \n",
    "                        num_workers=4, \n",
    "                        drop_last=True,\n",
    "                        pin_memory=False)"
   ]
  },
  {
   "cell_type": "code",
   "execution_count": null,
   "id": "e60fcbf6",
   "metadata": {},
   "outputs": [],
   "source": [
    "\"\"\"\n",
    "DO NOT MODIFY ANYTHING IN THIS CELL\n",
    "\"\"\"\n",
    "\n",
    "def display(fixed_latent_vector: torch.Tensor):\n",
    "    \"\"\" helper function to display images during training \"\"\"\n",
    "    fig = plt.figure(figsize=(14, 4))\n",
    "    plot_size = 16\n",
    "    for idx in np.arange(plot_size):\n",
    "        ax = fig.add_subplot(2, int(plot_size/2), idx+1, xticks=[], yticks=[])\n",
    "        img = fixed_latent_vector[idx, ...].detach().cpu().numpy()\n",
    "        img = np.transpose(img, (1, 2, 0))\n",
    "        img = denormalize(img)\n",
    "        ax.imshow(img)\n",
    "    plt.show()"
   ]
  },
  {
   "cell_type": "markdown",
   "id": "ef3e0df6",
   "metadata": {},
   "source": [
    "### Exercise: implement the training strategy\n",
    "\n",
    "You should experiment with different training strategies. For example:\n",
    "\n",
    "* train the generator more often than the discriminator. \n",
    "* added noise to the input image\n",
    "* use label smoothing\n",
    "\n",
    "Implement with your training strategy below."
   ]
  },
  {
   "cell_type": "code",
   "execution_count": null,
   "id": "6f3c31ab",
   "metadata": {},
   "outputs": [],
   "source": [
    "# with open('experiments.csv','w') as f:\n",
    "#     f.write('model,optimizers,training_strategy,lr,gp,result\\n')\n",
    "with open('experiments.csv','a') as f:\n",
    "    f.write('DCGAN,Adam,smooth,0.0002,None,None\\n')\n",
    "    "
   ]
  },
  {
   "cell_type": "code",
   "execution_count": null,
   "id": "c46d74c8",
   "metadata": {
    "scrolled": false
   },
   "outputs": [],
   "source": [
    "fixed_latent_vector = torch.randn(16, latent_dim, 1, 1).float().to(device)\n",
    "\n",
    "losses = []\n",
    "for epoch in range(n_epochs):\n",
    "    for batch_i, real_images in enumerate(dataloader):\n",
    "        real_images = real_images.to(device)\n",
    "        \n",
    "        ####################################\n",
    "        \n",
    "        # TODO: implement the training strategy\n",
    "        \n",
    "        ####################################\n",
    "        g_loss = generator_step(batch_size, latent_dim)\n",
    "        d_loss = discriminator_step(batch_size, latent_dim, real_images)\n",
    "        \n",
    "        if batch_i % print_every == 0:\n",
    "            # append discriminator loss and generator loss\n",
    "            d = d_loss['loss'].item()\n",
    "            g = g_loss['loss'].item()\n",
    "            losses.append((d, g))\n",
    "            # print discriminator and generator loss\n",
    "            time = str(datetime.now()).split('.')[0]\n",
    "            print(f'{time} | Epoch [{epoch+1}/{n_epochs}] | Batch {batch_i}/{len(dataloader)} | d_loss: {d:.4f} | g_loss: {g:.4f}')\n",
    "    \n",
    "    # display images during training\n",
    "    generator.eval()\n",
    "    generated_images = generator(fixed_latent_vector)\n",
    "    display(generated_images)\n",
    "    generator.train()"
   ]
  },
  {
   "cell_type": "markdown",
   "id": "4f52a50a",
   "metadata": {},
   "source": [
    "### Training losses\n",
    "\n",
    "Plot the training losses for the generator and discriminator."
   ]
  },
  {
   "cell_type": "code",
   "execution_count": null,
   "id": "ec381672",
   "metadata": {},
   "outputs": [],
   "source": [
    "\"\"\"\n",
    "DO NOT MODIFY ANYTHING IN THIS CELL\n",
    "\"\"\"\n",
    "fig, ax = plt.subplots()\n",
    "losses = np.array(losses)\n",
    "plt.plot(losses.T[0], label='Discriminator', alpha=0.5)\n",
    "plt.plot(losses.T[1], label='Generator', alpha=0.5)\n",
    "plt.title(\"Training Losses\")\n",
    "plt.legend()"
   ]
  },
  {
   "cell_type": "markdown",
   "id": "5457799c",
   "metadata": {},
   "source": [
    "### Question: What do you notice about your generated samples and how might you improve this model?\n",
    "When you answer this question, consider the following factors:\n",
    "* The dataset is biased; it is made of \"celebrity\" faces that are mostly white\n",
    "* Model size; larger models have the opportunity to learn more features in a data feature space\n",
    "* Optimization strategy; optimizers and number of epochs affect your final result\n",
    "* Loss functions"
   ]
  },
  {
   "cell_type": "markdown",
   "id": "2b3d0255",
   "metadata": {},
   "source": [
    "**Answer:** (Write your answer in this cell)"
   ]
  },
  {
   "cell_type": "markdown",
   "id": "35ec33d8",
   "metadata": {},
   "source": [
    "### Submitting This Project\n",
    "When submitting this project, make sure to run all the cells before saving the notebook. Save the notebook file as \"dlnd_face_generation.ipynb\".  \n",
    "\n",
    "Submit the notebook using the ***SUBMIT*** button in the bottom right corner of the Project Workspace."
   ]
  },
  {
   "cell_type": "code",
   "execution_count": null,
   "id": "5eb6bff5",
   "metadata": {},
   "outputs": [],
   "source": []
  }
 ],
 "metadata": {
  "kernelspec": {
   "display_name": "Python 3 (ipykernel)",
   "language": "python",
   "name": "python3"
  },
  "language_info": {
   "codemirror_mode": {
    "name": "ipython",
    "version": 3
   },
   "file_extension": ".py",
   "mimetype": "text/x-python",
   "name": "python",
   "nbconvert_exporter": "python",
   "pygments_lexer": "ipython3",
   "version": "3.9.12"
  }
 },
 "nbformat": 4,
 "nbformat_minor": 5
}
